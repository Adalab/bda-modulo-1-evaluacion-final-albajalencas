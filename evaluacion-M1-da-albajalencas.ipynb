{
 "cells": [
  {
   "cell_type": "markdown",
   "id": "f4d50678",
   "metadata": {},
   "source": [
    "# Estructura"
   ]
  },
  {
   "cell_type": "code",
   "execution_count": 5,
   "id": "de4b221a",
   "metadata": {},
   "outputs": [],
   "source": [
    "inventory=[]\n",
    "costumers={'Elisa Fuentes':{'email':'elisa.fuentes@email.com','compras':[]},\n",
    "           'Ramón Valdés':{'email':'ramon.valdes@email.com','compras':[]},\n",
    "           'Sofía Herrera':{'email':'sofia.herrera@email.com','compras':[]},\n",
    "           'Javier Rivas':{'email':'javier.rivas@email.com','compras':[]},\n",
    "           'Lucía Paredes':{'email':'lucia.paredes@email.com','compras':[]},\n",
    "           'Andrés Moya':{'email':'andres.moya@email.com','compras':[]},\n",
    "           'Carla Soto':{'email':'carla.soto@email.com','compras':[]},\n",
    "           'Diego Torres':{'email':'diego.torres@email.com','compras':[]},\n",
    "           'Marina Gil':{'email':'marina.gil@email.com','compras':[]},\n",
    "           'Héctor Blanco':{'email':'hector.blanco@email.com','compras':[]}}\n",
    "total_sales=float(0)"
   ]
  }
 ],
 "metadata": {
  "kernelspec": {
   "display_name": "base",
   "language": "python",
   "name": "python3"
  },
  "language_info": {
   "codemirror_mode": {
    "name": "ipython",
    "version": 3
   },
   "file_extension": ".py",
   "mimetype": "text/x-python",
   "name": "python",
   "nbconvert_exporter": "python",
   "pygments_lexer": "ipython3",
   "version": "3.12.7"
  }
 },
 "nbformat": 4,
 "nbformat_minor": 5
}
