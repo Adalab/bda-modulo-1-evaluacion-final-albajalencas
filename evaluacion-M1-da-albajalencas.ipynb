{
 "cells": [
  {
   "cell_type": "markdown",
   "id": "f4d50678",
   "metadata": {},
   "source": [
    "# Estructura"
   ]
  },
  {
   "cell_type": "code",
   "execution_count": 91,
   "id": "de4b221a",
   "metadata": {},
   "outputs": [],
   "source": [
    "inventory=[]\n",
    "costumers={'Elisa Fuentes':{'email':'elisa.fuentes@email.com','compras':[]},\n",
    "           'Ramón Valdés':{'email':'ramon.valdes@email.com','compras':[]},\n",
    "           'Sofía Herrera':{'email':'sofia.herrera@email.com','compras':[]},\n",
    "           'Javier Rivas':{'email':'javier.rivas@email.com','compras':[]},\n",
    "           'Lucía Paredes':{'email':'lucia.paredes@email.com','compras':[]},\n",
    "           'Andrés Moya':{'email':'andres.moya@email.com','compras':[]},\n",
    "           'Carla Soto':{'email':'carla.soto@email.com','compras':[]},\n",
    "           'Diego Torres':{'email':'diego.torres@email.com','compras':[]},\n",
    "           'Marina Gil':{'email':'marina.gil@email.com','compras':[]},\n",
    "           'Héctor Blanco':{'email':'hector.blanco@email.com','compras':[]}}\n",
    "total_sales=float(0)"
   ]
  },
  {
   "cell_type": "markdown",
   "id": "47ef9c52",
   "metadata": {},
   "source": [
    "# Funciones"
   ]
  },
  {
   "cell_type": "code",
   "execution_count": 92,
   "id": "0207b956",
   "metadata": {},
   "outputs": [],
   "source": [
    "def add_product(nombre,precio,cantidad): # definimos la funcion con el estamento \"def\", la nombramos \"add_product\" y indicamos los parámetros.\n",
    "    while len(inventory)==0: # indicamos que mientras el inventario esté vacío...\n",
    "        new_product={'nombre':nombre,'precio':precio,'cantidad':cantidad} # ...cree un nuveo diccionario...\n",
    "        inventory.append(new_product) # ...y lo añada a \"inventory\".\n",
    "        return # usamos return para devolver la infomación fuera de la función\n",
    "    for i in inventory: # usamos for...in para iterar sobre el inventario. \"i\" representa cada diccionario dentro de la lista \"inventory\".\n",
    "        if i['nombre']==nombre: # indicamos que si el valor de la clave 'nombre' es igual a un valor ya añadido dentro del parametro nombre...\n",
    "            i['cantidad']+=cantidad # ...se sume al valor de la clave 'cantidad', el valor que indicamos para el nuevo producto.\n",
    "            return\n",
    "    new_product={'nombre':nombre,'precio':precio,'cantidad':cantidad}\n",
    "    inventory.append(new_product) # como ya hemos pedido que nos retorne el resultado, podemos decirle que nos añada el nuevo producto.\n"
   ]
  },
  {
   "cell_type": "code",
   "execution_count": 93,
   "id": "0530f439",
   "metadata": {},
   "outputs": [
    {
     "data": {
      "text/plain": [
       "[{'nombre': 'Bolígrafo', 'precio': 1.5, 'cantidad': 10},\n",
       " {'nombre': 'Libreta', 'precio': 3, 'cantidad': 30},\n",
       " {'nombre': 'Agenda', 'precio': 5.6, 'cantidad': 25},\n",
       " {'nombre': 'Clip', 'precio': 0.2, 'cantidad': 100}]"
      ]
     },
     "execution_count": 93,
     "metadata": {},
     "output_type": "execute_result"
    }
   ],
   "source": [
    "add_product('Bolígrafo',1.5,10) # llamamos a la función \"add_product\" indicando el valor de los parámetros definidos.\n",
    "add_product('Libreta',3,30)\n",
    "add_product('Agenda',5.6,25)\n",
    "add_product('Clip',0.2,100)\n",
    "inventory # imprimimos el inventario para comprovar."
   ]
  },
  {
   "cell_type": "code",
   "execution_count": 94,
   "id": "0619bee8",
   "metadata": {},
   "outputs": [
    {
     "name": "stdout",
     "output_type": "stream",
     "text": [
      "Nombre: Bolígrafo, Precio: 1.5€, Cantidad: 10 unidades\n",
      "Nombre: Libreta, Precio: 3€, Cantidad: 30 unidades\n",
      "Nombre: Agenda, Precio: 5.6€, Cantidad: 25 unidades\n",
      "Nombre: Clip, Precio: 0.2€, Cantidad: 100 unidades\n"
     ]
    }
   ],
   "source": [
    "def see_inventory(): # definimos la función\n",
    "    for i in inventory: # indicamos que por cada producto del inventario...\n",
    "        print(f'Nombre: {i['nombre']}, Precio: {i['precio']}€, Cantidad: {i['cantidad']} unidades') #... nos imprima la siguiente frase.\n",
    "see_inventory() # llamamos a la función"
   ]
  },
  {
   "cell_type": "code",
   "execution_count": 95,
   "id": "357de6d8",
   "metadata": {},
   "outputs": [
    {
     "name": "stdout",
     "output_type": "stream",
     "text": [
      "Nombre: Bolígrafo, Precio: 1.5€, Cantidad: 10 unidades\n"
     ]
    }
   ],
   "source": [
    "def search_product(nombre): # definimos la función con el parámetro nombre\n",
    "    for i in inventory: # iteramos sobre el inventario\n",
    "        if i['nombre']==nombre: # si el valor que le indicamos es el nombre de un producto, nos da la respuesta\n",
    "            print(f'Nombre: {i['nombre']}, Precio: {i['precio']}€, Cantidad: {i['cantidad']} unidades') # definimos la respuesta\n",
    "search_product('Bolígrafo') # buscamos el producto"
   ]
  },
  {
   "cell_type": "code",
   "execution_count": 96,
   "id": "18cd9c8d",
   "metadata": {},
   "outputs": [
    {
     "name": "stdout",
     "output_type": "stream",
     "text": [
      "Nombre: Libreta, Precio: 3€, Cantidad: 30 unidades\n"
     ]
    }
   ],
   "source": [
    "search_product('Libreta')"
   ]
  },
  {
   "cell_type": "code",
   "execution_count": 97,
   "id": "9a0ef8ce",
   "metadata": {},
   "outputs": [
    {
     "name": "stdout",
     "output_type": "stream",
     "text": [
      "{'nombre': 'Bolígrafo', 'precio': 1.5, 'cantidad': 50}\n"
     ]
    },
    {
     "data": {
      "text/plain": [
       "[{'nombre': 'Bolígrafo', 'precio': 1.5, 'cantidad': 50},\n",
       " {'nombre': 'Libreta', 'precio': 3, 'cantidad': 30},\n",
       " {'nombre': 'Agenda', 'precio': 5.6, 'cantidad': 25},\n",
       " {'nombre': 'Clip', 'precio': 0.2, 'cantidad': 100}]"
      ]
     },
     "execution_count": 97,
     "metadata": {},
     "output_type": "execute_result"
    }
   ],
   "source": [
    "def update_stock(nombre,cantidad):\n",
    "    for i in inventory:\n",
    "        if i['nombre']==nombre: # si el valor de nombre es el mismo que el valor indicado...\n",
    "            i['cantidad']+=cantidad # ...suma la cantidad indicada a la existente\n",
    "            print(i)\n",
    "            return\n",
    "    else: # no indentamos else para que se repita el if por todos los parametros del diccionario.\n",
    "        print('Este producto no está en el inventario')\n",
    "update_stock('Bolígrafo',40)\n",
    "inventory"
   ]
  },
  {
   "cell_type": "code",
   "execution_count": 98,
   "id": "68fa25ab",
   "metadata": {},
   "outputs": [
    {
     "name": "stdout",
     "output_type": "stream",
     "text": [
      "{'nombre': 'Libreta', 'precio': 3, 'cantidad': 33}\n"
     ]
    }
   ],
   "source": [
    "update_stock('Libreta',3)"
   ]
  },
  {
   "cell_type": "code",
   "execution_count": 99,
   "id": "37bc6372",
   "metadata": {},
   "outputs": [
    {
     "name": "stdout",
     "output_type": "stream",
     "text": [
      "Este producto no está en el inventario\n"
     ]
    }
   ],
   "source": [
    "update_stock('Papel',10)"
   ]
  },
  {
   "cell_type": "code",
   "execution_count": 100,
   "id": "92d90204",
   "metadata": {},
   "outputs": [
    {
     "data": {
      "text/plain": [
       "[{'nombre': 'Bolígrafo', 'precio': 1.5, 'cantidad': 50},\n",
       " {'nombre': 'Libreta', 'precio': 3, 'cantidad': 33},\n",
       " {'nombre': 'Clip', 'precio': 0.2, 'cantidad': 100}]"
      ]
     },
     "execution_count": 100,
     "metadata": {},
     "output_type": "execute_result"
    }
   ],
   "source": [
    "def delete_product(nombre):\n",
    "    for i in inventory:\n",
    "        if i['nombre']==nombre: # si el valor de nombre es el mismo que el valor indicado...\n",
    "            inventory.remove(i) # ...elimina este diccionario de la lista\n",
    "            return\n",
    "    else:\n",
    "        print('Este producto no está en el inventario')\n",
    "delete_product('Agenda')\n",
    "inventory"
   ]
  },
  {
   "cell_type": "code",
   "execution_count": null,
   "id": "6a4ca312",
   "metadata": {},
   "outputs": [
    {
     "name": "stdout",
     "output_type": "stream",
     "text": [
      "El valor total es 194.0€\n"
     ]
    }
   ],
   "source": [
    "def calculate_inventary_value():\n",
    "    total_value=0.0 # definimos una variable float para agrupar el valor total\n",
    "    for i in inventory:\n",
    "        precio=i['precio'] # indicamos que el valor de precio dentro del diccionario, lo llamamos precio\n",
    "        cantidad=i['cantidad'] # hacemos lo mismo con cantidad para poder operar con los valores\n",
    "        product_value=precio*cantidad # calculamos el valor de cada producto\n",
    "        total_value+=product_value # calculamos el valor total\n",
    "    print(f'El valor total es {total_value}€')\n",
    "calculate_inventary_value()"
   ]
  }
 ],
 "metadata": {
  "kernelspec": {
   "display_name": "base",
   "language": "python",
   "name": "python3"
  },
  "language_info": {
   "codemirror_mode": {
    "name": "ipython",
    "version": 3
   },
   "file_extension": ".py",
   "mimetype": "text/x-python",
   "name": "python",
   "nbconvert_exporter": "python",
   "pygments_lexer": "ipython3",
   "version": "3.12.7"
  }
 },
 "nbformat": 4,
 "nbformat_minor": 5
}
